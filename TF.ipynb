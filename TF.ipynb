{
  "nbformat": 4,
  "nbformat_minor": 0,
  "metadata": {
    "colab": {
      "name": "TF.ipynb",
      "provenance": [],
      "collapsed_sections": []
    },
    "kernelspec": {
      "name": "python3",
      "display_name": "Python 3"
    },
    "language_info": {
      "name": "python"
    }
  },
  "cells": [
    {
      "cell_type": "markdown",
      "source": [
        "#Trabajo: Opción 1"
      ],
      "metadata": {
        "id": "awHpCb_teaE_"
      }
    },
    {
      "cell_type": "markdown",
      "source": [
        "Importación de las librerías a utilizar:"
      ],
      "metadata": {
        "id": "yV9L3BBmgsXY"
      }
    },
    {
      "cell_type": "code",
      "execution_count": null,
      "metadata": {
        "id": "r4cf5-kqeY7B"
      },
      "outputs": [],
      "source": [
        "import pandas as pd\n",
        "import numpy as np\n",
        "import matplotlib.pyplot as plt\n",
        "from matplotlib.pylab import subplots\n",
        "import seaborn as sns\n",
        "import os\n",
        "\n",
        "\"\"\"\n",
        "# Ingresas a la terminal \n",
        "  Si no hay excel, se crea un dataframe nuevo *****************\n",
        "    - Ingrese las variables de la base de datos\n",
        "  Si hay un excel se toma como punto de partida\n",
        "Se lanzan opciones:\n",
        "  Desea actualizar la base de datos: \n",
        "    Se pregunta si desea hacer un nuevo ingreso (1)\n",
        "      - Se ingresa en primer lugar el ID, si el ID se repite, se imprime usuario ya ingresado\n",
        "      - Se ingresa Dato 1\n",
        "      - Dato 2 \n",
        "      ... (Los que hayan)\n",
        "    Si desea actualizar a un usuario ya ingresado (2)\n",
        "      - Se pregunta qué dato desea cambiar y se cambia, luego se pregunta si está seguro\n",
        "      Se pregunta si desea actualizar otro, si la rpta es sí se repite, sino se vuelve al bucle inicial\n",
        "    Se desea agregar una nueva característica (3)\n",
        "  Desea información acerca de la base de datos:\n",
        "    Desea un gráfico\n",
        "    Desea un resumen estadístico\n",
        "Preguntar si desea hacer un nuevo proceso\n",
        "  SI: repetir proceso\n",
        "  NO: Preguntar si desea guardar\n",
        "    -SI, Indicar ruta y salir\n",
        "    -NO, salir y despedirse\n",
        "\"\"\""
      ]
    },
    {
      "cell_type": "markdown",
      "source": [
        "Ingreso de una base de datos antigua (en caso ya exista):"
      ],
      "metadata": {
        "id": "9f0va896gYJR"
      }
    },
    {
      "cell_type": "code",
      "source": [
        "def df_inicio():\n",
        "  global excel_sino\n",
        "  global ruta_excel\n",
        "  excel_sino = input(\"¿Tiene una base de datos ya creada? \")\n",
        "  if excel_sino == 'si':\n",
        "    pass\n",
        "  elif excel_sino == 'no':\n",
        "    print(\"Ahora se creará una nueva base de datos\")\n",
        "  else:\n",
        "    print(\"Entonces me despido, hasta luego\")"
      ],
      "metadata": {
        "id": "jTQzTscZeqjP"
      },
      "execution_count": 35,
      "outputs": []
    },
    {
      "cell_type": "markdown",
      "source": [
        "Creación de una base de datos nueva:"
      ],
      "metadata": {
        "id": "zHY1lDu2hKNX"
      }
    },
    {
      "cell_type": "code",
      "source": [
        "def new_file():\n",
        "  global database\n",
        "  n_variables = int(input(\"Ingrese el número de características que tendrá cada observación \"))\n",
        "  features = []\n",
        "  while len(features) < n_variables:\n",
        "    for i in range(1,n_variables+1):     \n",
        "      print(\"Ingrese la característica número\", i)\n",
        "      variables = input()\n",
        "      features.append(variables)\n",
        "  print(\"Ahora ingresará los datos por característica en orden\")\n",
        "  n_obs = int(input(\"Ingrese el número de observaciones de la base de datos: \"))\n",
        "  list_obs = []\n",
        "  for n in range(n_variables):\n",
        "    new_obs = []\n",
        "    tipo_variable = input(f\"Ingrese el tipo de variable de {features[n]}: (A) Valor Numérico, (B) Cadena de Texto: \")\n",
        "    while len(new_obs) < n_obs:\n",
        "      print(\"Ingresa\", features[n])\n",
        "      if tipo_variable == 'A':\n",
        "        observaciones = float(input())\n",
        "      elif tipo_variable == 'B':\n",
        "        observaciones = input()\n",
        "      else:\n",
        "        print(\"No reconozco ese tipo de variable\")      \n",
        "      new_obs.append(observaciones)\n",
        "    list_obs.append(new_obs)\n",
        "  database = pd.DataFrame(list_obs, columns = features)"
      ],
      "metadata": {
        "id": "mgDpMNW1g49U"
      },
      "execution_count": 42,
      "outputs": []
    },
    {
      "cell_type": "markdown",
      "source": [
        "Funciones secundarias utilizadas en el programa:"
      ],
      "metadata": {
        "id": "kak2P1Z9iHx2"
      }
    },
    {
      "cell_type": "code",
      "source": [
        "def seguro():\n",
        "  print(\"¿Está seguro que desea continuar? Escriba 'si' en caso continue\")\n",
        "  seguro = input()\n",
        "  return seguro\n",
        "\n",
        "def list_column():\n",
        "  global database\n",
        "  global columnas_df\n",
        "  dicc_fila = {}\n",
        "  columnas_df = list(database.columns)\n",
        "\n",
        "def agregar_fila():\n",
        "  global database  \n",
        "  for i in columnas_df:\n",
        "    dicc_fila[i] = input('Ingrese el valor de la columna {} '.format(i))\n",
        "  database = database.append(dicc_fila, ignore_index= True)\n",
        "\n",
        "def save_file():\n",
        "  save_ruta = input(\"Indique la ruta en la que se guardará el archivo: \")\n",
        "  df.to_excel(save_ruta)"
      ],
      "metadata": {
        "id": "GzfcbYz7hPS6"
      },
      "execution_count": 8,
      "outputs": []
    },
    {
      "cell_type": "markdown",
      "source": [
        "Ingreso o borrado de una variable o característica de la base de datos"
      ],
      "metadata": {
        "id": "R9ddPwbiiPx8"
      }
    },
    {
      "cell_type": "code",
      "source": [
        "def ingress_drop_feature():\n",
        "  global database\n",
        "  global n_observaciones\n",
        "  global n_features\n",
        "  global seguro\n",
        "  decision = '1'\n",
        "  while decision == '1' or decision == '2':\n",
        "    decision = input(\"(1) Ingresar nueva variable o (2) Eliminar variable \")\n",
        "    if decision == '1':\n",
        "      new_feature = input(\"Ingrese el nombre de la nueva variable: \")\n",
        "      new_feature_data = []\n",
        "      print(\"Ingrese las observaciones en el orden propio de la base de datos\")\n",
        "      while n_observaciones > len(new_feature_data):\n",
        "        new_data = input()\n",
        "        new_feature_data.append(new_data) \n",
        "      database[new_feature] = new_feature_data\n",
        "      decision = input(\"Si desea ingresar o eliminar otra variable marque '1'\")\n",
        "      list_column()\n",
        "    elif decision == '2':\n",
        "      drop_feature = input(\"Ingrese el nombre de la variable a eliminar: \")\n",
        "      seguro = seguro()\n",
        "      if seguro == 'si':\n",
        "        database.drop(drop_feature, axis = 1)\n",
        "      decision = input(\"Si desea ingresar o eliminar otra variable marque '1'\")\n",
        "      list_column()\n",
        "    else:\n",
        "      decision = 0\n",
        "      n_observaciones = database.shape[0]\n",
        "      n_features = database.shape[1]\n",
        "      list_column()\n",
        "  print(\"Proceso Completado\")"
      ],
      "metadata": {
        "id": "o9XvuC7bhTi_"
      },
      "execution_count": 9,
      "outputs": []
    },
    {
      "cell_type": "markdown",
      "source": [
        "Ingreso o borrado de una observación de la base de datos"
      ],
      "metadata": {
        "id": "60cCaVxViXLA"
      }
    },
    {
      "cell_type": "code",
      "source": [
        "def ingress_drop_observacion():\n",
        "  global database\n",
        "  global seguro\n",
        "  global n_features\n",
        "  global n_observaciones\n",
        "  decision = '1'\n",
        "  while decision == '1' or decision == '2':\n",
        "    decision = input(\"(1) Ingresar nueva observación o (2) Eliminar observación:  \")\n",
        "    if decision == '1':\n",
        "      agregar_fila()\n",
        "      decision = input(\"Si desea ingresar o eliminar otra observación marque '1'\")\n",
        "    elif decision == '2':\n",
        "      drop_feature = int(input(\"Ingrese el orden de la observación a eliminar (Desde el 0 hacia adelante): \"))\n",
        "      seguro = seguro()\n",
        "      if seguro == 'si':\n",
        "        database = database.drop(drop_feature, axis = 0)\n",
        "      decision = input(\"Si desea ingresar o eliminar otra observación marque '1'\")\n",
        "    else:\n",
        "      decision = 0\n",
        "      n_observaciones = database.shape[0]\n",
        "      n_features = database.shape[1]\n",
        "      pass\n",
        "  print(\"Proceso Completado\")"
      ],
      "metadata": {
        "id": "MP0xndAqhd-L"
      },
      "execution_count": 10,
      "outputs": []
    },
    {
      "cell_type": "markdown",
      "source": [
        "Función para ostrar base de datos filtrada:"
      ],
      "metadata": {
        "id": "KIsKjKVBibOJ"
      }
    },
    {
      "cell_type": "code",
      "source": [
        "def filter_feat():\n",
        "  print(columnas_df)\n",
        "  filter_var = input(\"Ingrese el nombre de la variable por la cual desea filtrar: \")\n",
        "  type_filter = database[filter_var].dtypes\n",
        "  if type_filter == 'float64':\n",
        "     filter_data = float(input('Ingrese el valor a filtrar de la columna {} '.format(filter_var)))\n",
        "  elif type_filter == 'int64':\n",
        "    filter_data = int(input('Ingrese el valor a filtrar de la columna {} '.format(filter_var)))\n",
        "  elif type_filter == 'object':\n",
        "    filter_data = input('Ingrese el valor a filtrar de la columna {} '.format(filter_var))\n",
        "  else:\n",
        "    print(\"No reconozco ese tipo de objeto\")\n",
        "  database.describe()\n",
        "  data_filter = database.loc[database[filter_var] == filter_data]\n",
        "  print(data_filter)"
      ],
      "metadata": {
        "id": "92BbSIRwhiW1"
      },
      "execution_count": 11,
      "outputs": []
    },
    {
      "cell_type": "markdown",
      "source": [
        "Función para crear gráficos de dispersión e histogramas:"
      ],
      "metadata": {
        "id": "4E_J3R-yjcsH"
      }
    },
    {
      "cell_type": "code",
      "source": [
        "def graph_function():\n",
        "  print(\"Marque el tipo de gráfico que requiere: \")\n",
        "  print(\"(1) Si requiere un gráfico de dispersión\")\n",
        "  print(\"(2) Si requiere un histograma\")\n",
        "  type_graph = int(input())\n",
        "  if type_graph == 1:\n",
        "    var_graph = int(input(\"Ingrese el número de variables a representar en el gráfico: \"))\n",
        "    print(columnas_df)\n",
        "    x = input(\"Ingrese la variable a representar el eje de las 'X': \")\n",
        "    y = input(\"Ingrese la variable a representar el eje de las 'Y': \")\n",
        "    fig,ax = subplots()\n",
        "    if var_graph == 2:\n",
        "      ax.plot(x,y,'o', color = 'orange', alpha = .75)\n",
        "    if var_graph == 3:\n",
        "      z = input(\"Ingrese la variable a representar el tamaño del área de cada observación: \")\n",
        "      plt.scatter(list(database[x]),list(database[y]), s=list(database[z]), alpha = 0.75) \n",
        "      plt.colorbar()\n",
        "      plt.grid(axis = 'y')\n",
        "    if var_graph == 4:\n",
        "      z = input(\"Ingrese la variable a representar el tamaño del área de cada observación: \")\n",
        "      w = input(\"Ingrese la variable a representar el espectro de color de la observación\")\n",
        "      plt.scatter(list(database[x]),list(database[y]), s=list(database[z]), c=list(database[w]), alpha = 0.5) \n",
        "      plt.colorbar()\n",
        "      plt.grid(axis = 'y')\n",
        "    ax.set_xlim(database[x].min(),database[x].max())\n",
        "    ax.set_ylim(database[y].min(),database[y].max())\n",
        "    ax.grid()\n",
        "    plt.show()\n",
        "  elif type_graph == 2:\n",
        "    x = input(\"Ingrese la variable a representar en el histograma \")\n",
        "    style = dict(size = 12, color = 'blue', fontfamily = 'monospacew')\n",
        "    plt.style.use('seaborn-white')\n",
        "    plt.hist(np.array(list(database[x])),bins = 6, alpha = .5, histtype = 'bar', color ='steelblue', edgecolor = 'gray')  \n",
        "    plt.show()\n",
        "  else:\n",
        "    pass\n",
        "  continuar = input(\"¿Desea hacer otro gráfico?\")\n",
        "  if continuar == 'si':\n",
        "    graph_function()\n",
        "  else:\n",
        "    pass"
      ],
      "metadata": {
        "id": "GrhtBNvvhmfq"
      },
      "execution_count": 12,
      "outputs": []
    },
    {
      "cell_type": "markdown",
      "source": [
        "Función para decidir el proceso a realizar con la base de datos"
      ],
      "metadata": {
        "id": "UGjPC3qcjgIy"
      }
    },
    {
      "cell_type": "code",
      "source": [
        "def process_new():\n",
        "  global columnas_df\n",
        "  global filter_data\n",
        "  print(\"Indique el proceso que desea realizar, marque:\")\n",
        "  print(\"(1) Si desea ingresar o eliminar una variable o feature\")\n",
        "  print(\"(2) Si desea ingresar o eliminar una observación\")\n",
        "  print(\"(3) Si desea un resumen estadístico\")\n",
        "  print(\"(4) Si desea un gráfico de variables\")\n",
        "  print(\"(5) Si desea filtrar la data por características\")\n",
        "  process = int(input())\n",
        "  if process == 1:\n",
        "    ingress_drop_feature()\n",
        "  if process == 2:\n",
        "    ingress_drop_observacion()\n",
        "  if process == 3:\n",
        "    pass #### LO HACE OTRO\n",
        "  if process == 4:\n",
        "    graph_function()\n",
        "  if process == 5:\n",
        "    filter_feat()"
      ],
      "metadata": {
        "id": "qvEvOiqzhxUZ"
      },
      "execution_count": 13,
      "outputs": []
    },
    {
      "cell_type": "markdown",
      "source": [
        "Función principal:"
      ],
      "metadata": {
        "id": "1DhcRXnGjivb"
      }
    },
    {
      "cell_type": "code",
      "source": [
        "def main():\n",
        "  global database\n",
        "  global n_observaciones\n",
        "  global n_features\n",
        "  df_inicio()\n",
        "  if excel_sino == 'no': \n",
        "    new_file()\n",
        "  elif excel_sino == 'si':\n",
        "    name_file = input(\"Ingresa el nombre del archivo .xlsx\")  \n",
        "    path = os.path.join('C:','Users','Juan',name_file)\n",
        "    print(path)\n",
        "    database = pd.read_excel(path)\n",
        "  list_column()\n",
        "  display(database.head())\n",
        "  n_observaciones = database.shape[0]\n",
        "  n_features = database.shape[1]\n",
        "  continuar = input(\"¿Desea hacer un nuevo proceso? \")\n",
        "  while continuar == 'si':\n",
        "    process_new()\n",
        "    continuar = input(\"¿Desea hacer un nuevo proceso? \")\n",
        "    pass\n",
        "  save_decision = input(\"¿Desea guardar la base de datos? \")\n",
        "  if save_decision == 'si':\n",
        "    save_file()\n",
        "  else:\n",
        "    print(\"Hasta luego!\")\n",
        "    exit()\n",
        "\n",
        "main()"
      ],
      "metadata": {
        "colab": {
          "base_uri": "https://localhost:8080/",
          "height": 602
        },
        "id": "3t9P1Ii7hyX2",
        "outputId": "f9663e1c-cacb-483a-fb8e-b32fbb09d731"
      },
      "execution_count": 43,
      "outputs": [
        {
          "output_type": "stream",
          "name": "stdout",
          "text": [
            "¿Tiene una base de datos ya creada? no\n",
            "Ahora se creará una nueva base de datos\n"
          ]
        },
        {
          "output_type": "error",
          "ename": "KeyboardInterrupt",
          "evalue": "ignored",
          "traceback": [
            "\u001b[0;31m---------------------------------------------------------------------------\u001b[0m",
            "\u001b[0;31mKeyboardInterrupt\u001b[0m                         Traceback (most recent call last)",
            "\u001b[0;32m/usr/local/lib/python3.7/dist-packages/ipykernel/kernelbase.py\u001b[0m in \u001b[0;36m_input_request\u001b[0;34m(self, prompt, ident, parent, password)\u001b[0m\n\u001b[1;32m    728\u001b[0m             \u001b[0;32mtry\u001b[0m\u001b[0;34m:\u001b[0m\u001b[0;34m\u001b[0m\u001b[0;34m\u001b[0m\u001b[0m\n\u001b[0;32m--> 729\u001b[0;31m                 \u001b[0mident\u001b[0m\u001b[0;34m,\u001b[0m \u001b[0mreply\u001b[0m \u001b[0;34m=\u001b[0m \u001b[0mself\u001b[0m\u001b[0;34m.\u001b[0m\u001b[0msession\u001b[0m\u001b[0;34m.\u001b[0m\u001b[0mrecv\u001b[0m\u001b[0;34m(\u001b[0m\u001b[0mself\u001b[0m\u001b[0;34m.\u001b[0m\u001b[0mstdin_socket\u001b[0m\u001b[0;34m,\u001b[0m \u001b[0;36m0\u001b[0m\u001b[0;34m)\u001b[0m\u001b[0;34m\u001b[0m\u001b[0;34m\u001b[0m\u001b[0m\n\u001b[0m\u001b[1;32m    730\u001b[0m             \u001b[0;32mexcept\u001b[0m \u001b[0mException\u001b[0m\u001b[0;34m:\u001b[0m\u001b[0;34m\u001b[0m\u001b[0;34m\u001b[0m\u001b[0m\n",
            "\u001b[0;32m/usr/local/lib/python3.7/dist-packages/jupyter_client/session.py\u001b[0m in \u001b[0;36mrecv\u001b[0;34m(self, socket, mode, content, copy)\u001b[0m\n\u001b[1;32m    802\u001b[0m         \u001b[0;32mtry\u001b[0m\u001b[0;34m:\u001b[0m\u001b[0;34m\u001b[0m\u001b[0;34m\u001b[0m\u001b[0m\n\u001b[0;32m--> 803\u001b[0;31m             \u001b[0mmsg_list\u001b[0m \u001b[0;34m=\u001b[0m \u001b[0msocket\u001b[0m\u001b[0;34m.\u001b[0m\u001b[0mrecv_multipart\u001b[0m\u001b[0;34m(\u001b[0m\u001b[0mmode\u001b[0m\u001b[0;34m,\u001b[0m \u001b[0mcopy\u001b[0m\u001b[0;34m=\u001b[0m\u001b[0mcopy\u001b[0m\u001b[0;34m)\u001b[0m\u001b[0;34m\u001b[0m\u001b[0;34m\u001b[0m\u001b[0m\n\u001b[0m\u001b[1;32m    804\u001b[0m         \u001b[0;32mexcept\u001b[0m \u001b[0mzmq\u001b[0m\u001b[0;34m.\u001b[0m\u001b[0mZMQError\u001b[0m \u001b[0;32mas\u001b[0m \u001b[0me\u001b[0m\u001b[0;34m:\u001b[0m\u001b[0;34m\u001b[0m\u001b[0;34m\u001b[0m\u001b[0m\n",
            "\u001b[0;32m/usr/local/lib/python3.7/dist-packages/zmq/sugar/socket.py\u001b[0m in \u001b[0;36mrecv_multipart\u001b[0;34m(self, flags, copy, track)\u001b[0m\n\u001b[1;32m    624\u001b[0m         \"\"\"\n\u001b[0;32m--> 625\u001b[0;31m         \u001b[0mparts\u001b[0m \u001b[0;34m=\u001b[0m \u001b[0;34m[\u001b[0m\u001b[0mself\u001b[0m\u001b[0;34m.\u001b[0m\u001b[0mrecv\u001b[0m\u001b[0;34m(\u001b[0m\u001b[0mflags\u001b[0m\u001b[0;34m,\u001b[0m \u001b[0mcopy\u001b[0m\u001b[0;34m=\u001b[0m\u001b[0mcopy\u001b[0m\u001b[0;34m,\u001b[0m \u001b[0mtrack\u001b[0m\u001b[0;34m=\u001b[0m\u001b[0mtrack\u001b[0m\u001b[0;34m)\u001b[0m\u001b[0;34m]\u001b[0m\u001b[0;34m\u001b[0m\u001b[0;34m\u001b[0m\u001b[0m\n\u001b[0m\u001b[1;32m    626\u001b[0m         \u001b[0;31m# have first part already, only loop while more to receive\u001b[0m\u001b[0;34m\u001b[0m\u001b[0;34m\u001b[0m\u001b[0;34m\u001b[0m\u001b[0m\n",
            "\u001b[0;32mzmq/backend/cython/socket.pyx\u001b[0m in \u001b[0;36mzmq.backend.cython.socket.Socket.recv\u001b[0;34m()\u001b[0m\n",
            "\u001b[0;32mzmq/backend/cython/socket.pyx\u001b[0m in \u001b[0;36mzmq.backend.cython.socket.Socket.recv\u001b[0;34m()\u001b[0m\n",
            "\u001b[0;32mzmq/backend/cython/socket.pyx\u001b[0m in \u001b[0;36mzmq.backend.cython.socket._recv_copy\u001b[0;34m()\u001b[0m\n",
            "\u001b[0;32m/usr/local/lib/python3.7/dist-packages/zmq/backend/cython/checkrc.pxd\u001b[0m in \u001b[0;36mzmq.backend.cython.checkrc._check_rc\u001b[0;34m()\u001b[0m\n",
            "\u001b[0;31mKeyboardInterrupt\u001b[0m: ",
            "\nDuring handling of the above exception, another exception occurred:\n",
            "\u001b[0;31mKeyboardInterrupt\u001b[0m                         Traceback (most recent call last)",
            "\u001b[0;32m<ipython-input-43-2c8980b86d3f>\u001b[0m in \u001b[0;36m<module>\u001b[0;34m()\u001b[0m\n\u001b[1;32m     27\u001b[0m     \u001b[0mexit\u001b[0m\u001b[0;34m(\u001b[0m\u001b[0;34m)\u001b[0m\u001b[0;34m\u001b[0m\u001b[0;34m\u001b[0m\u001b[0m\n\u001b[1;32m     28\u001b[0m \u001b[0;34m\u001b[0m\u001b[0m\n\u001b[0;32m---> 29\u001b[0;31m \u001b[0mmain\u001b[0m\u001b[0;34m(\u001b[0m\u001b[0;34m)\u001b[0m\u001b[0;34m\u001b[0m\u001b[0;34m\u001b[0m\u001b[0m\n\u001b[0m",
            "\u001b[0;32m<ipython-input-43-2c8980b86d3f>\u001b[0m in \u001b[0;36mmain\u001b[0;34m()\u001b[0m\n\u001b[1;32m      5\u001b[0m   \u001b[0mdf_inicio\u001b[0m\u001b[0;34m(\u001b[0m\u001b[0;34m)\u001b[0m\u001b[0;34m\u001b[0m\u001b[0;34m\u001b[0m\u001b[0m\n\u001b[1;32m      6\u001b[0m   \u001b[0;32mif\u001b[0m \u001b[0mexcel_sino\u001b[0m \u001b[0;34m==\u001b[0m \u001b[0;34m'no'\u001b[0m\u001b[0;34m:\u001b[0m\u001b[0;34m\u001b[0m\u001b[0;34m\u001b[0m\u001b[0m\n\u001b[0;32m----> 7\u001b[0;31m     \u001b[0mnew_file\u001b[0m\u001b[0;34m(\u001b[0m\u001b[0;34m)\u001b[0m\u001b[0;34m\u001b[0m\u001b[0;34m\u001b[0m\u001b[0m\n\u001b[0m\u001b[1;32m      8\u001b[0m   \u001b[0;32melif\u001b[0m \u001b[0mexcel_sino\u001b[0m \u001b[0;34m==\u001b[0m \u001b[0;34m'si'\u001b[0m\u001b[0;34m:\u001b[0m\u001b[0;34m\u001b[0m\u001b[0;34m\u001b[0m\u001b[0m\n\u001b[1;32m      9\u001b[0m     \u001b[0mname_file\u001b[0m \u001b[0;34m=\u001b[0m \u001b[0minput\u001b[0m\u001b[0;34m(\u001b[0m\u001b[0;34m\"Ingresa el nombre del archivo .xlsx\"\u001b[0m\u001b[0;34m)\u001b[0m\u001b[0;34m\u001b[0m\u001b[0;34m\u001b[0m\u001b[0m\n",
            "\u001b[0;32m<ipython-input-42-885433138a20>\u001b[0m in \u001b[0;36mnew_file\u001b[0;34m()\u001b[0m\n\u001b[1;32m      1\u001b[0m \u001b[0;32mdef\u001b[0m \u001b[0mnew_file\u001b[0m\u001b[0;34m(\u001b[0m\u001b[0;34m)\u001b[0m\u001b[0;34m:\u001b[0m\u001b[0;34m\u001b[0m\u001b[0;34m\u001b[0m\u001b[0m\n\u001b[1;32m      2\u001b[0m   \u001b[0;32mglobal\u001b[0m \u001b[0mdatabase\u001b[0m\u001b[0;34m\u001b[0m\u001b[0;34m\u001b[0m\u001b[0m\n\u001b[0;32m----> 3\u001b[0;31m   \u001b[0mn_variables\u001b[0m \u001b[0;34m=\u001b[0m \u001b[0mint\u001b[0m\u001b[0;34m(\u001b[0m\u001b[0minput\u001b[0m\u001b[0;34m(\u001b[0m\u001b[0;34m\"Ingrese el número de características que tendrá cada observación \"\u001b[0m\u001b[0;34m)\u001b[0m\u001b[0;34m)\u001b[0m\u001b[0;34m\u001b[0m\u001b[0;34m\u001b[0m\u001b[0m\n\u001b[0m\u001b[1;32m      4\u001b[0m   \u001b[0mfeatures\u001b[0m \u001b[0;34m=\u001b[0m \u001b[0;34m[\u001b[0m\u001b[0;34m]\u001b[0m\u001b[0;34m\u001b[0m\u001b[0;34m\u001b[0m\u001b[0m\n\u001b[1;32m      5\u001b[0m   \u001b[0;32mwhile\u001b[0m \u001b[0mlen\u001b[0m\u001b[0;34m(\u001b[0m\u001b[0mfeatures\u001b[0m\u001b[0;34m)\u001b[0m \u001b[0;34m<\u001b[0m \u001b[0mn_variables\u001b[0m\u001b[0;34m:\u001b[0m\u001b[0;34m\u001b[0m\u001b[0;34m\u001b[0m\u001b[0m\n",
            "\u001b[0;32m/usr/local/lib/python3.7/dist-packages/ipykernel/kernelbase.py\u001b[0m in \u001b[0;36mraw_input\u001b[0;34m(self, prompt)\u001b[0m\n\u001b[1;32m    702\u001b[0m             \u001b[0mself\u001b[0m\u001b[0;34m.\u001b[0m\u001b[0m_parent_ident\u001b[0m\u001b[0;34m,\u001b[0m\u001b[0;34m\u001b[0m\u001b[0;34m\u001b[0m\u001b[0m\n\u001b[1;32m    703\u001b[0m             \u001b[0mself\u001b[0m\u001b[0;34m.\u001b[0m\u001b[0m_parent_header\u001b[0m\u001b[0;34m,\u001b[0m\u001b[0;34m\u001b[0m\u001b[0;34m\u001b[0m\u001b[0m\n\u001b[0;32m--> 704\u001b[0;31m             \u001b[0mpassword\u001b[0m\u001b[0;34m=\u001b[0m\u001b[0;32mFalse\u001b[0m\u001b[0;34m,\u001b[0m\u001b[0;34m\u001b[0m\u001b[0;34m\u001b[0m\u001b[0m\n\u001b[0m\u001b[1;32m    705\u001b[0m         )\n\u001b[1;32m    706\u001b[0m \u001b[0;34m\u001b[0m\u001b[0m\n",
            "\u001b[0;32m/usr/local/lib/python3.7/dist-packages/ipykernel/kernelbase.py\u001b[0m in \u001b[0;36m_input_request\u001b[0;34m(self, prompt, ident, parent, password)\u001b[0m\n\u001b[1;32m    732\u001b[0m             \u001b[0;32mexcept\u001b[0m \u001b[0mKeyboardInterrupt\u001b[0m\u001b[0;34m:\u001b[0m\u001b[0;34m\u001b[0m\u001b[0;34m\u001b[0m\u001b[0m\n\u001b[1;32m    733\u001b[0m                 \u001b[0;31m# re-raise KeyboardInterrupt, to truncate traceback\u001b[0m\u001b[0;34m\u001b[0m\u001b[0;34m\u001b[0m\u001b[0;34m\u001b[0m\u001b[0m\n\u001b[0;32m--> 734\u001b[0;31m                 \u001b[0;32mraise\u001b[0m \u001b[0mKeyboardInterrupt\u001b[0m\u001b[0;34m\u001b[0m\u001b[0;34m\u001b[0m\u001b[0m\n\u001b[0m\u001b[1;32m    735\u001b[0m             \u001b[0;32melse\u001b[0m\u001b[0;34m:\u001b[0m\u001b[0;34m\u001b[0m\u001b[0;34m\u001b[0m\u001b[0m\n\u001b[1;32m    736\u001b[0m                 \u001b[0;32mbreak\u001b[0m\u001b[0;34m\u001b[0m\u001b[0;34m\u001b[0m\u001b[0m\n",
            "\u001b[0;31mKeyboardInterrupt\u001b[0m: "
          ]
        }
      ]
    }
  ]
}