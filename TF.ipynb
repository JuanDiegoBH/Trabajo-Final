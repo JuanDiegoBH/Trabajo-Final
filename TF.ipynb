{
  "nbformat": 4,
  "nbformat_minor": 0,
  "metadata": {
    "colab": {
      "name": "TF.ipynb",
      "provenance": [],
      "collapsed_sections": [],
      "mount_file_id": "1xGti3fpMzhV7a4nxMzNq0K4Lu2ZoQKo-",
      "authorship_tag": "ABX9TyMEGK5vzZf60CYKB1OoKrQX",
      "include_colab_link": true
    },
    "kernelspec": {
      "name": "python3",
      "display_name": "Python 3"
    },
    "language_info": {
      "name": "python"
    }
  },
  "cells": [
    {
      "cell_type": "markdown",
      "metadata": {
        "id": "view-in-github",
        "colab_type": "text"
      },
      "source": [
        "<a href=\"https://colab.research.google.com/github/JuanDiegoBH/Trabajo-Final/blob/main/TF.ipynb\" target=\"_parent\"><img src=\"https://colab.research.google.com/assets/colab-badge.svg\" alt=\"Open In Colab\"/></a>"
      ]
    },
    {
      "cell_type": "markdown",
      "source": [
        "#Trabajo: Opción 1"
      ],
      "metadata": {
        "id": "awHpCb_teaE_"
      }
    },
    {
      "cell_type": "markdown",
      "source": [
        "Importación de las librerías a utilizar:"
      ],
      "metadata": {
        "id": "yV9L3BBmgsXY"
      }
    },
    {
      "cell_type": "code",
      "execution_count": 115,
      "metadata": {
        "colab": {
          "base_uri": "https://localhost:8080/",
          "height": 140
        },
        "id": "r4cf5-kqeY7B",
        "outputId": "2ce31f1e-740e-42cd-f167-bcb48cac877b"
      },
      "outputs": [
        {
          "output_type": "execute_result",
          "data": {
            "application/vnd.google.colaboratory.intrinsic+json": {
              "type": "string"
            },
            "text/plain": [
              "'\\n# Ingresas a la terminal \\n  Si no hay excel, se crea un dataframe nuevo *****************\\n    - Ingrese las variables de la base de datos\\n  Si hay un excel se toma como punto de partida\\nSe lanzan opciones:\\n  Desea actualizar la base de datos: \\n    Se pregunta si desea hacer un nuevo ingreso (1)\\n      - Se ingresa en primer lugar el ID, si el ID se repite, se imprime usuario ya ingresado\\n      - Se ingresa Dato 1\\n      - Dato 2 \\n      ... (Los que hayan)\\n    Si desea actualizar a un usuario ya ingresado (2)\\n      - Se pregunta qué dato desea cambiar y se cambia, luego se pregunta si está seguro\\n      Se pregunta si desea actualizar otro, si la rpta es sí se repite, sino se vuelve al bucle inicial\\n    Se desea agregar una nueva característica (3)\\n  Desea información acerca de la base de datos:\\n    Desea un gráfico\\n    Desea un resumen estadístico\\nPreguntar si desea hacer un nuevo proceso\\n  SI: repetir proceso\\n  NO: Preguntar si desea guardar\\n    -SI, Indicar ruta y salir\\n    -NO, salir y despedirse\\n'"
            ]
          },
          "metadata": {},
          "execution_count": 115
        }
      ],
      "source": [
        "import pandas as pd\n",
        "import numpy as np\n",
        "import matplotlib.pyplot as plt\n",
        "from matplotlib.pylab import subplots\n",
        "import seaborn as sns\n",
        "\n",
        "\"\"\"\n",
        "# Ingresas a la terminal \n",
        "  Si no hay excel, se crea un dataframe nuevo *****************\n",
        "    - Ingrese las variables de la base de datos\n",
        "  Si hay un excel se toma como punto de partida\n",
        "Se lanzan opciones:\n",
        "  Desea actualizar la base de datos: \n",
        "    Se pregunta si desea hacer un nuevo ingreso (1)\n",
        "      - Se ingresa en primer lugar el ID, si el ID se repite, se imprime usuario ya ingresado\n",
        "      - Se ingresa Dato 1\n",
        "      - Dato 2 \n",
        "      ... (Los que hayan)\n",
        "    Si desea actualizar a un usuario ya ingresado (2)\n",
        "      - Se pregunta qué dato desea cambiar y se cambia, luego se pregunta si está seguro\n",
        "      Se pregunta si desea actualizar otro, si la rpta es sí se repite, sino se vuelve al bucle inicial\n",
        "    Se desea agregar una nueva característica (3)\n",
        "  Desea información acerca de la base de datos:\n",
        "    Desea un gráfico\n",
        "    Desea un resumen estadístico\n",
        "Preguntar si desea hacer un nuevo proceso\n",
        "  SI: repetir proceso\n",
        "  NO: Preguntar si desea guardar\n",
        "    -SI, Indicar ruta y salir\n",
        "    -NO, salir y despedirse\n",
        "\"\"\""
      ]
    },
    {
      "cell_type": "markdown",
      "source": [
        "Ingreso de una base de datos antigua (en caso ya exista):"
      ],
      "metadata": {
        "id": "9f0va896gYJR"
      }
    },
    {
      "cell_type": "code",
      "source": [
        "def df_inicio():\n",
        "  global excel_sino\n",
        "  global ruta_excel\n",
        "  excel_sino = input(\"¿Tiene una base de datos ya creada? \")\n",
        "  if excel_sino == 'si':\n",
        "    pass\n",
        "  elif excel_sino == 'no':\n",
        "    print(\"Ahora se creará una nueva base de datos\")\n",
        "  else:\n",
        "    print(\"Entonces me despido, hasta luego\")"
      ],
      "metadata": {
        "id": "jTQzTscZeqjP"
      },
      "execution_count": 116,
      "outputs": []
    },
    {
      "cell_type": "markdown",
      "source": [
        "Creación de una base de datos nueva:"
      ],
      "metadata": {
        "id": "zHY1lDu2hKNX"
      }
    },
    {
      "cell_type": "code",
      "source": [
        "def new_file():\n",
        "  global database\n",
        "  n_variables = int(input(\"Ingrese el número de características que tendrá cada observación \"))\n",
        "  features = []\n",
        "  while len(features) < n_variables:\n",
        "    for i in range(1,n_variables+1):     \n",
        "      print(\"Ingrese la característica número\", i)\n",
        "      variables = input()\n",
        "      features.append(variables)\n",
        "  print(\"Ahora ingresará los datos por característica en orden\")\n",
        "  n_obs = int(input(\"Ingrese el número de observaciones de la base de datos: \"))\n",
        "  list_obs = []\n",
        "  for n in range(n_obs):\n",
        "    new_obs = []\n",
        "    while len(new_obs) < n_variables:\n",
        "      print(\"Ingresa características de observación\", n+1)\n",
        "      observaciones = input()\n",
        "      new_obs.append(observaciones)\n",
        "    list_obs.append(new_obs)\n",
        "  database = pd.DataFrame(list_obs, columns = features)"
      ],
      "metadata": {
        "id": "mgDpMNW1g49U"
      },
      "execution_count": 117,
      "outputs": []
    },
    {
      "cell_type": "markdown",
      "source": [
        "Funciones secundarias utilizadas en el programa:"
      ],
      "metadata": {
        "id": "kak2P1Z9iHx2"
      }
    },
    {
      "cell_type": "code",
      "source": [
        "def seguro():\n",
        "  print(\"¿Está seguro que desea continuar? Escriba 'si' en caso continue\") \n",
        "  seguro = input()\n",
        "  return seguro\n",
        "\n",
        "def list_column():\n",
        "  global database\n",
        "  global columnas_df\n",
        "  dicc_fila = {}\n",
        "  columnas_df = list(database.columns)\n",
        "\n",
        "def agregar_fila():\n",
        "  global database  \n",
        "  for i in columnas_df:\n",
        "    dicc_fila[i] = input('Ingrese el valor de la columna {} '.format(i))\n",
        "  database = database.append(dicc_fila, ignore_index= True)\n",
        "\n",
        "def save_file():\n",
        "  save_ruta = input(\"Indique la ruta en la que se guardará el archivo: \")\n",
        "  df.to_excel(save_ruta)"
      ],
      "metadata": {
        "id": "GzfcbYz7hPS6"
      },
      "execution_count": 118,
      "outputs": []
    },
    {
      "cell_type": "markdown",
      "source": [
        "Ingreso o borrado de una variable o característica de la base de datos"
      ],
      "metadata": {
        "id": "R9ddPwbiiPx8"
      }
    },
    {
      "cell_type": "code",
      "source": [
        "def ingress_drop_feature():\n",
        "  global database\n",
        "  global n_observaciones\n",
        "  global n_features\n",
        "  global seguro\n",
        "  decision = '1'\n",
        "  while decision == '1' or decision == '2':\n",
        "    decision = input(\"(1) Ingresar nueva variable o (2) Eliminar variable \")\n",
        "    if decision == '1':\n",
        "      new_feature = input(\"Ingrese el nombre de la nueva variable: \")\n",
        "      new_feature_data = []\n",
        "      print(\"Ingrese las observaciones en el orden propio de la base de datos\")\n",
        "      while n_observaciones > len(new_feature_data):\n",
        "        new_data = input()\n",
        "        new_feature_data.append(new_data) \n",
        "      database[new_feature] = new_feature_data\n",
        "      decision = input(\"Si desea ingresar o eliminar otra variable marque '1'\")\n",
        "      list_column()\n",
        "      display(database.head(3))\n",
        "    elif decision == '2':\n",
        "      drop_feature = input(\"Ingrese el nombre de la variable a eliminar: \")\n",
        "      seguro = seguro()\n",
        "      if seguro == 'si':\n",
        "        database.drop(drop_feature, axis = 1)\n",
        "      decision = input(\"Si desea ingresar o eliminar otra variable marque '1'\")\n",
        "      list_column()\n",
        "    else:\n",
        "      decision = 0\n",
        "      n_observaciones = database.shape[0]\n",
        "      n_features = database.shape[1]\n",
        "      list_column()\n",
        "  print(\"Proceso Completado\")"
      ],
      "metadata": {
        "id": "o9XvuC7bhTi_"
      },
      "execution_count": 119,
      "outputs": []
    },
    {
      "cell_type": "markdown",
      "source": [
        "Ingreso o borrado de una observación de la base de datos"
      ],
      "metadata": {
        "id": "60cCaVxViXLA"
      }
    },
    {
      "cell_type": "code",
      "source": [
        "def ingress_drop_observacion():\n",
        "  global database\n",
        "  global seguro\n",
        "  global n_features\n",
        "  global n_observaciones\n",
        "  decision = '1'\n",
        "  while decision == '1' or decision == '2':\n",
        "    decision = input(\"(1) Ingresar nueva observación o (2) Eliminar observación:  \")\n",
        "    if decision == '1':\n",
        "      agregar_fila()\n",
        "      decision = input(\"Si desea ingresar o eliminar otra observación marque '1'\")\n",
        "    elif decision == '2':\n",
        "      drop_feature = int(input(\"Ingrese el orden de la observación a eliminar (Desde el 0 hacia adelante): \"))\n",
        "      seguro = seguro()\n",
        "      if seguro == 'si':\n",
        "        database = database.drop(drop_feature, axis = 0)\n",
        "      decision = input(\"Si desea ingresar o eliminar otra observación marque '1'\")\n",
        "    else:\n",
        "      decision = 0\n",
        "      n_observaciones = database.shape[0]\n",
        "      n_features = database.shape[1]\n",
        "      pass\n",
        "  print(\"Proceso Completado\")"
      ],
      "metadata": {
        "id": "MP0xndAqhd-L"
      },
      "execution_count": 120,
      "outputs": []
    },
    {
      "cell_type": "markdown",
      "source": [
        "Función para ostrar base de datos filtrada:"
      ],
      "metadata": {
        "id": "KIsKjKVBibOJ"
      }
    },
    {
      "cell_type": "code",
      "source": [
        "def filter_feat():\n",
        "  global data_filter\n",
        "  print(columnas_df)\n",
        "  filter_var = input(\"Ingrese el nombre de la variable por la cual desea filtrar: \")\n",
        "  type_filter = database[filter_var].dtypes\n",
        "  if type_filter == 'float64':\n",
        "     filter_data = float(input('Ingrese el valor a filtrar de la columna {} '.format(filter_var)))\n",
        "  elif type_filter == 'int64':\n",
        "    filter_data = int(input('Ingrese el valor a filtrar de la columna {} '.format(filter_var)))\n",
        "  elif type_filter == 'object':\n",
        "    filter_data = input('Ingrese el valor a filtrar de la columna {} '.format(filter_var))\n",
        "  else:\n",
        "    print(\"No reconozco ese tipo de objeto\")\n",
        "  data_filter = database.loc[database[filter_var] == filter_data]\n",
        "  print(data_filter)"
      ],
      "metadata": {
        "id": "92BbSIRwhiW1"
      },
      "execution_count": 121,
      "outputs": []
    },
    {
      "cell_type": "markdown",
      "source": [
        "Función para crear gráficos de dispersión e histogramas:"
      ],
      "metadata": {
        "id": "4E_J3R-yjcsH"
      }
    },
    {
      "cell_type": "code",
      "source": [
        "def graph_function():\n",
        "  print(\"Marque el tipo de gráfico que requiere: \")\n",
        "  print(\"(1) Si requiere un gráfico de dispersión\")\n",
        "  print(\"(2) Si requiere un histograma\")\n",
        "  type_graph = int(input())\n",
        "  if type_graph == 1:\n",
        "    var_graph = int(input(\"Ingrese el número de variables a representar en el gráfico: \"))\n",
        "    print(columnas_df)\n",
        "    x = input(\"Ingrese la variable a representar el eje de las 'X': \")\n",
        "    y = input(\"Ingrese la variable a representar el eje de las 'Y': \")\n",
        "    if var_graph == 2:\n",
        "      fig,ax = subplots()\n",
        "      ax.plot(x,y,'o', color = 'orange', alpha = .75)\n",
        "    if var_graph == 3:\n",
        "      z = input(\"Ingrese la variable a representar el tamaño del área de cada observación: \")\n",
        "      plt.scatter(list(database[x]),list(database[y]), s=list(database[z]), alpha = 0.75) \n",
        "      plt.colorbar()\n",
        "      plt.grid()\n",
        "    if var_graph == 4:\n",
        "      z = 200*np.array(input(\"Ingrese la variable a representar el tamaño del área de cada observación: \"))\n",
        "      w = input(\"Ingrese la variable a representar el espectro de color de la observación: \")\n",
        "      plt.scatter(list(database[x]),list(database[y]), s=list(database[z]), c=list(database[w]), alpha = 0.5) \n",
        "      plt.colorbar()\n",
        "      plt.grid(axis = 'y')\n",
        "    fig,ax = subplots()\n",
        "    ax.set_xlim(database[x].min(),database[x].max())\n",
        "    ax.set_ylim(database[y].min(),database[y].max())\n",
        "    ax.grid()\n",
        "    plt.show()\n",
        "  elif type_graph == 2:\n",
        "    x = input(\"Ingrese la variable a representar en el histograma \")\n",
        "    style = dict(size = 12, color = 'blue', fontfamily = 'monospacew')\n",
        "    plt.style.use('seaborn-white')\n",
        "    plt.hist(np.array(list(database[x])),bins = 6, alpha = .5, histtype = 'bar', color ='steelblue', edgecolor = 'gray')  \n",
        "    plt.show()\n",
        "  else:\n",
        "    pass\n",
        "  continuar = input(\"¿Desea hacer otro gráfico?\")\n",
        "  if continuar == 'si':\n",
        "    graph_function()\n",
        "  else:\n",
        "    pass"
      ],
      "metadata": {
        "id": "GrhtBNvvhmfq"
      },
      "execution_count": 122,
      "outputs": []
    },
    {
      "cell_type": "markdown",
      "source": [
        "Función para decidir el proceso a realizar con la base de datos"
      ],
      "metadata": {
        "id": "UGjPC3qcjgIy"
      }
    },
    {
      "cell_type": "code",
      "source": [
        "def process_new():\n",
        "  global columnas_df\n",
        "  global filter_data\n",
        "  print(\"Indique el proceso que desea realizar, marque:\")\n",
        "  print(\"(1) Si desea ingresar o eliminar una variable o feature\")\n",
        "  print(\"(2) Si desea ingresar o eliminar una observación\")\n",
        "  print(\"(3) Si desea un resumen estadístico\")\n",
        "  print(\"(4) Si desea un gráfico de variables\")\n",
        "  print(\"(5) Si desea filtrar la data por características\")\n",
        "  process = int(input())\n",
        "  if process == 1:\n",
        "    ingress_drop_feature()\n",
        "  if process == 2:\n",
        "    ingress_drop_observacion()\n",
        "  if process == 3:\n",
        "    display(database.head())\n",
        "    print(database.describe())\n",
        "    pass\n",
        "  if process == 4:\n",
        "    graph_function()\n",
        "  if process == 5:\n",
        "    filter_feat()"
      ],
      "metadata": {
        "id": "qvEvOiqzhxUZ"
      },
      "execution_count": 123,
      "outputs": []
    },
    {
      "cell_type": "markdown",
      "source": [
        "Función principal:"
      ],
      "metadata": {
        "id": "1DhcRXnGjivb"
      }
    },
    {
      "cell_type": "code",
      "source": [
        "def main():\n",
        "  global database\n",
        "  global n_observaciones\n",
        "  global n_features\n",
        "  df_inicio()\n",
        "  if excel_sino == 'no': \n",
        "    new_file()\n",
        "    name_file = 0\n",
        "  elif excel_sino == 'si':\n",
        "    name_file = input(\"Ingresa la ruta del archivo .xlsx\")  \n",
        "    database = pd.read_excel(name_file)\n",
        "  list_column()\n",
        "  display(database.head())\n",
        "  n_observaciones = database.shape[0]\n",
        "  n_features = database.shape[1]\n",
        "  continuar = input(\"¿Desea hacer un nuevo proceso? \")\n",
        "  while continuar == 'si':\n",
        "    process_new()\n",
        "    continuar = input(\"¿Desea hacer un nuevo proceso? \")\n",
        "    pass\n",
        "  save_decision = input(\"¿Desea guardar la base de datos? \")\n",
        "  if save_decision == 'si':\n",
        "    save_file()\n",
        "  else:\n",
        "    print(\"Hasta luego!\")\n",
        "    exit()\n"
      ],
      "metadata": {
        "id": "3t9P1Ii7hyX2"
      },
      "execution_count": null,
      "outputs": []
    },
    {
      "cell_type": "code",
      "source": [
        "main()"
      ],
      "metadata": {
        "id": "O5fH6jZME3uk"
      },
      "execution_count": null,
      "outputs": []
    }
  ]
}